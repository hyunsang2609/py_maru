{
 "cells": [
  {
   "cell_type": "code",
   "execution_count": 4,
   "id": "3f5d7337",
   "metadata": {},
   "outputs": [
    {
     "ename": "ImportError",
     "evalue": "cannot import name 'func2' from 'ex1' (c:\\Users\\maru\\AppData\\Local\\Programs\\Python\\Python313\\ex1.py)",
     "output_type": "error",
     "traceback": [
      "\u001b[31m---------------------------------------------------------------------------\u001b[39m",
      "\u001b[31mImportError\u001b[39m                               Traceback (most recent call last)",
      "\u001b[36mCell\u001b[39m\u001b[36m \u001b[39m\u001b[32mIn[4]\u001b[39m\u001b[32m, line 1\u001b[39m\n\u001b[32m----> \u001b[39m\u001b[32m1\u001b[39m \u001b[38;5;28;01mfrom\u001b[39;00m\u001b[38;5;250m \u001b[39m\u001b[34;01mex1\u001b[39;00m\u001b[38;5;250m \u001b[39m\u001b[38;5;28;01mimport\u001b[39;00m func1, func2\n\u001b[32m      2\u001b[39m func1()\n",
      "\u001b[31mImportError\u001b[39m: cannot import name 'func2' from 'ex1' (c:\\Users\\maru\\AppData\\Local\\Programs\\Python\\Python313\\ex1.py)"
     ]
    }
   ],
   "source": [
    "from ex1 import func1, func2\n",
    "func1()"
   ]
  }
 ],
 "metadata": {
  "kernelspec": {
   "display_name": "Python 3",
   "language": "python",
   "name": "python3"
  },
  "language_info": {
   "codemirror_mode": {
    "name": "ipython",
    "version": 3
   },
   "file_extension": ".py",
   "mimetype": "text/x-python",
   "name": "python",
   "nbconvert_exporter": "python",
   "pygments_lexer": "ipython3",
   "version": "3.13.3"
  }
 },
 "nbformat": 4,
 "nbformat_minor": 5
}
